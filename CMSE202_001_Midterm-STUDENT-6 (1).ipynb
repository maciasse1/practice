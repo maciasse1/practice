{
 "cells": [
  {
   "cell_type": "markdown",
   "metadata": {},
   "source": [
    "## <p style=\"text-align: right;\"> &#9989; Anthony Bommarito</p>"
   ]
  },
  {
   "cell_type": "markdown",
   "metadata": {},
   "source": [
    "# CMSE 202 Midterm (Section 001 - Spring 2018)\n",
    "\n",
    "The goal of this midterm is to give you the opportunity to test out some of the skills that you've developed thus far this semester. In particular, you'll practice setting up a GitHub repository, committing and pushing repository changes, downloading data with command line tools, using a new-to-you Python package, and writing a python class. You should find that you have all of the skills necessary to complete this exam with even just eight weeks of CMSE 202 under your belt!\n",
    "\n",
    "You are encouraged to look through the entire exam before you get started so that you can appropriately budget your time and understand the broad goals of the exam. Once you've read through it, try doing Parts 1 and 2 first so that you have your repository set up and you download the provided data files as they will be necessary to complete the assigned tasks. Let your instructor know right away if you have problems downloading the data!\n",
    "\n",
    "The exam is set up so that even if you get stuck on one part there are opportunities to get points on the other parts, so consider jumping ahead if you feel like you aren't making progress and then come back later if you have time.\n",
    "\n",
    "**Important note about using online resources**: This exam is \"open internet\". That means that you can look up documentation, google how to accomplish certain Python tasks, etc. Being able to effectively use the internet for computational modeling and data science is a very important skill, so we want to make sure you have the opportunity to exercise that skill. **However**: The use of any person-to-person communication software is absolutely not acceptable. If you are seen accessing your email, using a chat program (e.g. Slack), or any sort of collaborative cloud storage or document software (e.g. Google Documents), you will be at risk for receiving a zero on the exam.\n",
    "\n",
    "**Keep your eyes on your screen!** Unfortunately, there isn't enough space in the room for everyone to sit at their own table so please do your best to keep your eyes on your own screen. This exam is designed to give *you* the opportunity to show the instructor what you can do and you should hold yourself accountable for maintaining a high level of academic integrity. If any of the instructors observe suspicious behavior, you will, again, risk receiving a zero."
   ]
  },
  {
   "cell_type": "markdown",
   "metadata": {},
   "source": [
    "---\n",
    "## Part 1: Setting up a repository for tracking changes (15 points)\n",
    "\n",
    "Before you get too far along in the assignment, you need to set up a **private** GitHub repository that you will store this notebook in and track the changes as you make them. For this section you should:\n",
    "\n",
    "1. Set up a new **private** Git repository on GitHub.\n",
    "2. Clone the repository onto your computer.\n",
    "3. Move this notebook into that repository and then add it and commit it to the repository and push the changes to the remote repository (**Suggestion**: You may want save and close this notebook before you move to the repository and then reopen it after you move it to make sure that you're working with the right copy of the notebook.)\n",
    "4. Add your instructor as a Collaborator to your respository. As a reminder, your instructor's username on GitHub is: devinsilvia\n",
    "\n",
    "From this point on you will occasionally be asked to save the state of your notebook, commit the changes, and push it to your new repository.\n",
    "\n",
    "**Note**: If you're struggling with getting the Git repository set up, you can always just work on the notebook as is and try to come back and figure out the repository component later. You may lose some points though since you won't have periodic commits as you make progress along the way, but it will be better than not working on the other parts of the exam!"
   ]
  },
  {
   "cell_type": "markdown",
   "metadata": {},
   "source": [
    "---\n",
    "## Part 2: Download the data! (10 points)\n",
    "\n",
    "For this exam you're going to need to download a data file from the internet. It's a relatively small file, so it shouldn't take very long. Since you can't do parts of the exam without the file, let the instructor know if you run into issues right away! Remember, in order to work with the data in this notebook, you'll need to make sure the data is in the same place as the notebook or you'll need to put the full path to the file in your data reading commands.\n",
    "\n",
    "The file you need is located here: `http://devinsilvia.com/cmse202/Example_chromatogram.ab1`\n",
    "\n",
    "In the cell below, include the command line command that you used to download the files (you can either run the command on the command line or inside the jupyter notebook using the correct leading character). If you're not sure how to download them using the command line, download them however you need to in order to get them on to your computer and move on."
   ]
  },
  {
   "cell_type": "code",
   "execution_count": 3,
   "metadata": {},
   "outputs": [
    {
     "name": "stderr",
     "output_type": "stream",
     "text": [
      "  % Total    % Received % Xferd  Average Speed   Time    Time     Time  Current\n",
      "                                 Dload  Upload   Total   Spent    Left  Speed\n",
      "\n",
      "  0     0    0     0    0     0      0      0 --:--:-- --:--:-- --:--:--     0\n",
      " 68  307k   68  211k    0     0   211k      0  0:00:01 --:--:--  0:00:01  245k\n",
      "100  307k  100  307k    0     0   307k      0  0:00:01  0:00:01 --:--:--  285k\n"
     ]
    }
   ],
   "source": [
    "# Put your download command here\n",
    "! curl http://devinsilvia.com/cmse202/Example_chromatogram.ab1 -o \"Example_chromatogram.ab1\""
   ]
  },
  {
   "cell_type": "markdown",
   "metadata": {},
   "source": [
    "---\n",
    "## Part 3: Loading/Reading unfamiliar data in Python (15 points)\n",
    "\n",
    "You might notice that the file you downloaded has the extension \".ab1\". This is likely a file extension that you are not familiar with and it actually indicates that it is an \"ABI\" file. So what is this file? [A quick internet search](https://fileinfo.com/extension/abi) indicates that this is a binary file format that contains information about a DNA sequence produced by a particular DNA analysis instrument. It's also commonly referred to as a \"trace file\". Although you might not have a background in DNA processing or biology in general, you should have all of the skills necessary to interact with this data in Python.\n",
    "\n",
    "That said, we've never opened such files in class! Your first task is to figure out how to open and read the file using Python. You should take a moment to search the internet for a Python package that will open an ABI file. It's particularly useful if there is a way of visualizing the contents of that file as well. If everything goes well, you should find that there is a package called [Biopython](http://biopython.org/) that is capable of reading and, using matplotlib, plotting the information contained in this type of file -- great!\n",
    "\n",
    "**Question**: There is at least one other package out there that you could install and use for loading ABI files in Python. Did you find this package in your search? What is it called? Why aren't we using that package?"
   ]
  },
  {
   "cell_type": "code",
   "execution_count": null,
   "metadata": {},
   "outputs": [],
   "source": [
    "abifpy"
   ]
  },
  {
   "cell_type": "markdown",
   "metadata": {},
   "source": [
    "Another package we could use is abifpy. This allows us to read the trace file. It is used in the biopython package and is much smaller, so if you already have biopython installed there is little reason to install abifpy. In the documentation i did not see any info on making plots."
   ]
  },
  {
   "cell_type": "markdown",
   "metadata": {},
   "source": [
    "### Installing Biopython and loading the data\n",
    "\n",
    "Unfortunately, Biopython is not already included with Anaconda. However, you should be able to follow the directions on the [download](http://biopython.org/wiki/Download) page of the Biopython documentation to install the package.\n",
    "\n",
    "Once you've installed Biopython, do the following:\n",
    "\n",
    "1. Open/read \"Example_chromatogram.ab1\" using the `SeqIO` module from the Biopython package. *Important note*: in the `SeqIO` module, there is a `parse` function and a `read` function. `parse` has a lot of extra functionality, but you should be able to just use the `read` function for the data that you've been given. You might need to review the documentation for `SeqIO`, which you can find [here](http://biopython.org/wiki/SeqIO)\n",
    "2. Once you've loaded up the trace file, you should extract the DNA sequence from the file and store it as a new variable. The sequence is actually stored as an attribute on the ABI file object that you loaded up. (Remember, Python is an object-oriented language!)\n",
    "3. Print the sequence string. You should find that you get something that looks like this:\n",
    "\n",
    "```\n",
    "NNNNNNNNTCGTTGGTGACCAGCGGAGGGATCATTACCGAGTTTACAACTCCCAAACCCCTGTGAACATACCACTTGTTGCCTCGGCGGA\n",
    "TCAGCCCGCTCCCGGTAAAACGGGACGGCCCGCCAGAGGACCCCTAAACTCTGTTTCTATATGTAACTTCTGAGTAAAACCATAAATAAA\n",
    "TCAAAACTTTCAACAACGGATCTCTTGGTTCTGGCATCGATGAAGAACGCAGCAAAATGCGATAAGTAATGTGAATTGCAGAATTCAGTG\n",
    "AATCATCGAATCTTTGAACGCACATTGCGCCCGCCAGTATTCTGGCGGGCATGCCTGTTCGAGCGTCATTTCAACCCTCAAGCACAGCTT\n",
    "GGTGTTGGGACTCGCGTTAATTCGCGTTCCTCAAATTGATTGGCGGTCACGTCGAGCTTCCATAGCGTAGTAGTAAAACCCTCGTTACTG\n",
    "GTAATCGTCGCGGCCACGCCGTTAAACCCCAACTTCTGAATGTTGACCTCGGATCAGGTAGGAATACCCGCTGAACTTAAGCATATCAAT\n",
    "AAGCGGAGGAAAAGAAACCAACAGGGATTGCCCTAGTAACGGCGAGTGAAGCGGCAACAGCTCAAATTTGAAATCTGGCTCTCGGGCCCG\n",
    "AGTTGTAATTTGTAGAGGATACTTTTGATGCGGTGCCTTCCGAGTTCCCTGGAACGGGACGCCATAGAGGGTGAGAGCCCCGTCTGGTTG\n",
    "GATGCCAAATCTCTGTAAAGTTCCTTCAACGAGTCGAGTAGTTTGGGAATGCTGCTCTAAATGGGAGGTATATGTCTTCTAAAGCTAAAT\n",
    "ACCGGCCAGAGACCGATAGCGCACAAGTAGAGTGATCGAAAGATGAAAAGCACTTTGAAAAGAGAGTTAAAAAGTACGTGAAATTGTTGA\n",
    "AAGGGAAGCGTTTATGACCAGACTTGGGCTTGGTTAATCATCTGGGGTTCTCCCCAGTGCACTTTTCCAGTCCAGGCCAGCATCAGTTTC\n",
    "CCCGGGGGANAAGGNNGCGGGAATGTGGCTCNCTTCNGGGAGTGTNTAGCCCACCGNGNANNCCCTGGGGGGGACTGAGTCGCGCATCTG\n",
    "CAGNNGCTGNNTANGTTNNNNNNNNNNNNNNNNNNNNNNN\n",
    "```"
   ]
  },
  {
   "cell_type": "code",
   "execution_count": 12,
   "metadata": {},
   "outputs": [
    {
     "name": "stdout",
     "output_type": "stream",
     "text": [
      "Requirement already satisfied: biopython in c:\\users\\marco\\anaconda3\\lib\\site-packages (1.71)\n",
      "Requirement already satisfied: numpy in c:\\users\\marco\\anaconda3\\lib\\site-packages (from biopython) (1.13.3)\n"
     ]
    }
   ],
   "source": [
    "# Put your install command here\n",
    "!pip install biopython\n",
    "#!python -m pip install --upgrade pip"
   ]
  },
  {
   "cell_type": "code",
   "execution_count": 23,
   "metadata": {},
   "outputs": [
    {
     "data": {
      "text/plain": [
       "Seq('NNNNNNNNTCGTTGGTGACCAGCGGAGGGATCATTACCGAGTTTACAACTCCCA...NNN', IUPACUnambiguousDNA())"
      ]
     },
     "execution_count": 23,
     "metadata": {},
     "output_type": "execute_result"
    }
   ],
   "source": [
    "# Put your code her\n",
    "from Bio import SeqIO\n",
    "x = SeqIO.read(\"Example_chromatogram.ab1\", format=\"abi\")\n",
    "x.seq\n"
   ]
  },
  {
   "cell_type": "code",
   "execution_count": 24,
   "metadata": {},
   "outputs": [
    {
     "name": "stdout",
     "output_type": "stream",
     "text": [
      "NNNNNNNNTCGTTGGTGACCAGCGGAGGGATCATTACCGAGTTTACAACTCCCAAACCCCTGTGAACATACCACTTGTTGCCTCGGCGGATCAGCCCGCTCCCGGTAAAACGGGACGGCCCGCCAGAGGACCCCTAAACTCTGTTTCTATATGTAACTTCTGAGTAAAACCATAAATAAATCAAAACTTTCAACAACGGATCTCTTGGTTCTGGCATCGATGAAGAACGCAGCAAAATGCGATAAGTAATGTGAATTGCAGAATTCAGTGAATCATCGAATCTTTGAACGCACATTGCGCCCGCCAGTATTCTGGCGGGCATGCCTGTTCGAGCGTCATTTCAACCCTCAAGCACAGCTTGGTGTTGGGACTCGCGTTAATTCGCGTTCCTCAAATTGATTGGCGGTCACGTCGAGCTTCCATAGCGTAGTAGTAAAACCCTCGTTACTGGTAATCGTCGCGGCCACGCCGTTAAACCCCAACTTCTGAATGTTGACCTCGGATCAGGTAGGAATACCCGCTGAACTTAAGCATATCAATAAGCGGAGGAAAAGAAACCAACAGGGATTGCCCTAGTAACGGCGAGTGAAGCGGCAACAGCTCAAATTTGAAATCTGGCTCTCGGGCCCGAGTTGTAATTTGTAGAGGATACTTTTGATGCGGTGCCTTCCGAGTTCCCTGGAACGGGACGCCATAGAGGGTGAGAGCCCCGTCTGGTTGGATGCCAAATCTCTGTAAAGTTCCTTCAACGAGTCGAGTAGTTTGGGAATGCTGCTCTAAATGGGAGGTATATGTCTTCTAAAGCTAAATACCGGCCAGAGACCGATAGCGCACAAGTAGAGTGATCGAAAGATGAAAAGCACTTTGAAAAGAGAGTTAAAAAGTACGTGAAATTGTTGAAAGGGAAGCGTTTATGACCAGACTTGGGCTTGGTTAATCATCTGGGGTTCTCCCCAGTGCACTTTTCCAGTCCAGGCCAGCATCAGTTTCCCCGGGGGANAAGGNNGCGGGAATGTGGCTCNCTTCNGGGAGTGTNTAGCCCACCGNGNANNCCCTGGGGGGGACTGAGTCGCGCATCTGCAGNNGCTGNNTANGTTNNNNNNNNNNNNNNNNNNNNNNN\n"
     ]
    }
   ],
   "source": [
    "print(x.seq)"
   ]
  },
  {
   "cell_type": "markdown",
   "metadata": {},
   "source": [
    "---\n",
    "### STOP: Save the current state of your notebook, commit the changes to your local repository and push those changes to the remote repository. Use the commit message \"Committing Part 3\".\n",
    "---"
   ]
  },
  {
   "cell_type": "markdown",
   "metadata": {},
   "source": [
    "## Part 4: Working with the the data (20 points)\n",
    "\n",
    "Now that you've got a DNA sequence loaded into Python using Biopython, you're going to perform a bit of analysis to understand the properties of the sequence. First off, here's a bit of background on what all those letters in the sequence mean:\n",
    "\n",
    "* Each letter, C, T, A, and G, represents a particular type of DNA nucleotide. Specifically, these letters represent the base of the nucleotide, which can be one of four things:\n",
    "    - cytosine (C)\n",
    "    - thymine (T)\n",
    "    - adenine (A)\n",
    "    - guanine (G)\n",
    "* The \"N\"s stand for any letter, which indicate that the data in that region is of sufficiently poor quality that determining the correct base is not possible. \n",
    "\n",
    "Now, assuming you don't have a particularly strong background in the properties of DNA sequences, one naive question we might want to ask of the data is:\n",
    "\n",
    "**\"How common is each type of nucleotide base in this DNA sequence?\"**\n",
    "\n",
    "Using whatever means necessary, your job is to determine the total length of the DNA sequence and the corresponding number of times that each letter (C, T, A, G, N) shows up in the sequence. Then, **make a bar chart that shows the relative fraction of each nucleotide type compared to the entire length of the sequence**. Your resulting plot should look something like this:\n",
    "\n",
    "<img src=https://i.imgur.com/CvfTN4B.png>\n",
    "\n",
    "*Hint*: You should check to see if the Biopython sequence object has any sort of built-in methods that would simplify this process!\n",
    "\n",
    "If you were unable to read in the sequence data, you can use the following lines of code to create a similar sort of sequence and then make the plot use that sequence:\n",
    "\n",
    "```\n",
    "from Bio.Seq import Seq\n",
    "\n",
    "my_seq = Seq('NNTCGTTGGTGACCAGCGGAGGGATCATTACCGAGTTTACAAGACTGAGTCGCGCATCTGCAGNNGCTGNNTANGTTNNNN')\n",
    "```\n"
   ]
  },
  {
   "cell_type": "code",
   "execution_count": null,
   "metadata": {},
   "outputs": [],
   "source": []
  },
  {
   "cell_type": "markdown",
   "metadata": {},
   "source": [
    "**Question**: What does your resulting graph tell you about the relatively probability of a given nucleotide coming up in a given DNA sequence? With just one DNA sequence, do you think you can generalize any claim you might make to all DNA sequences?"
   ]
  },
  {
   "cell_type": "markdown",
   "metadata": {},
   "source": [
    "*Put your answer here*\n",
    "\n",
    "This tells us that they all show up in similar numbers, and that the number of C is equal to the number of A. The number of G does not equal the number of N. I think we can conclude that whenever we have a c we will have an A."
   ]
  },
  {
   "cell_type": "markdown",
   "metadata": {},
   "source": [
    "---\n",
    "### STOP: Save the current state of your notebook, commit the changes to your local repository and push those changes to the remote repository. Use the commit message \"Committing Part 4\".\n",
    "---"
   ]
  },
  {
   "cell_type": "markdown",
   "metadata": {},
   "source": [
    "## Part 5: Using a specialized package for visualization of data (15 points)\n",
    "\n",
    "It turns out that if you were to visualize a DNA trace file, it would look something like this:\n",
    "\n",
    "<img src=https://i.imgur.com/SaneoEw.png width=800px>\n",
    "\n",
    "The spikes in the above plot correspond to different channels of the data where specific nucleotide bases dominate the signal. This is the information that is used to create the string of letters in the DNA sequence you looked at above. If the quality of the data is poor and there is no clearly dominating spike, that location would be marked with an \"N\".\n",
    "\n",
    "**Using Biopython and matplotlib (and the same ABI data file), you are going to attempt to recreate this type of visualization to produce and image that looks like the following:**\n",
    "\n",
    "<img src=https://i.imgur.com/rDOtf5G.png>\n",
    "\n",
    "You should make sure that your plot spans the same range on the x-axis as the above image. **Important note**: the colors in the above plot do not necessarily represent the same nucleotide bases as in the plot before that, but are simply used to convey a similar type of information.\n",
    "\n",
    "*Hint*: You should be able to find some Biopython documentation that will make this relatively straightforward."
   ]
  },
  {
   "cell_type": "code",
   "execution_count": 85,
   "metadata": {},
   "outputs": [
    {
     "data": {
      "image/png": "[encoded data removed]",
      "text/plain": [
       "<matplotlib.figure.Figure at 0x10f9adba8>"
      ]
     },
     "metadata": {},
     "output_type": "display_data"
    }
   ],
   "source": []
  },
  {
   "cell_type": "markdown",
   "metadata": {},
   "source": [
    "---\n",
    "### STOP: Save the current state of your notebook, commit the changes to your local repository and push those changes to the remote repository. Use the commit message \"Committing Part 5\".\n",
    "---"
   ]
  },
  {
   "cell_type": "markdown",
   "metadata": {},
   "source": [
    "## Part 6: Writing a simple Python class (25 points)\n",
    "\n",
    "For this section, you're going to expand on the pre-existing Python class contained in the cell below. The class is called `Student` and, not surprisingly, it is designed to store information about an individual student and currently just includes one simple method, one that prints the student's name. Using this class as a starting point, you goal is to do the following:\n",
    "\n",
    "* Add a new attribute, `year`, to the class so that it is defined when the class object is first initialized. This attribute will represent how many years the student has been in college. \n",
    "* Add a new class method, `enroll`, that takes as input a list of courses and adds them as an attribute to the student\n",
    "* Add a new class method, `display_courses`, that prints out: <br>\n",
    "\"I am enrolled in: < courses >\" <br>\n",
    "where the < courses > part is filled in with the courses that are added by the `enroll` method.\n",
    "* Add a new class method, `years_until_graduation`, that **returns** the number of years left until the student graduates (assuming that a student typically graduates after 4 years)\n",
    "\n",
    "Then, **using the `roster` provided below, create a list of `Student` objects that contain the information for each student. Using your list of students, randomly enroll each of them in two of these three classes: 'CMSE 202', 'ISP 205', or 'HB 409'.** You should enroll the students using your `enroll` method.\n",
    "\n",
    "Once you've enrolled all of your students, **use your student list to print the following for every student**:\n",
    "\n",
    ">My name is < name > <br>\n",
    "I am enrolled in < courses > <br>\n",
    "I will graduate in < years until graduation > years.\n",
    "\n",
    "where the appropriate student information is filled in for each part indicated by the < >'s\n",
    "\n",
    "Finally, **print the average GPA for this list of students**."
   ]
  },
  {
   "cell_type": "code",
   "execution_count": null,
   "metadata": {
    "collapsed": true
   },
   "outputs": [],
   "source": []
  },
  {
   "cell_type": "code",
   "execution_count": 42,
   "metadata": {
    "collapsed": true,
    "scrolled": true
   },
   "outputs": [],
   "source": [
    "# This is your roster of students (ignore the fact that apparently dogs can enroll in college courses)\n",
    "# The information provided is: name, GPA, years in college\n"
   ]
  },
  {
   "cell_type": "code",
   "execution_count": 46,
   "metadata": {
    "collapsed": true
   },
   "outputs": [],
   "source": [
    "# Put your code here\n",
    "\n"
   ]
  },
  {
   "cell_type": "markdown",
   "metadata": {},
   "source": [
    "### Inheriting your new class\n",
    "\n",
    "Now that you have a functioning class, your last task is to create a second class, `Spartan`, that inherits the student class. In this new `Spartan` class, add a new class method, `set_motto`, that takes a string as an input  and uses it to set a new class attribute, `motto`. Then, add a second new class method, `school_spirit`, that prints:\n",
    "\n",
    ">My name is < name > <br>\n",
    "I am a Spartan. My motto is < motto >\"\n",
    "\n",
    "where < name > and < motto > use the appropriate attribute values from your object.\n",
    "\n",
    "**Using your new Spartan class, create a version of yourself, set your motto to be \"Advancing Knowledge. Transforming Lives.\" and test out your `school_spirit` method.**"
   ]
  },
  {
   "cell_type": "code",
   "execution_count": 1,
   "metadata": {},
   "outputs": [],
   "source": [
    "# Put your code here\n"
   ]
  },
  {
   "cell_type": "markdown",
   "metadata": {},
   "source": [
    "---\n",
    "### STOP: Save the current state of your notebook, commit the changes to your local repository and push those changes to the remote repository. Use the commit message \"Committing Part 6\".\n",
    "---"
   ]
  },
  {
   "cell_type": "markdown",
   "metadata": {},
   "source": [
    "## You're done! Congrats on finishing your CMSE 202 Midterm!\n",
    "\n",
    "Make sure all of your changes to your repository are committed and pushed to GitHub. Also upload a copy of this notebook to the dropbox on D2L in case something went wrong with your repository or if you couldn't get the repository to work."
   ]
  }
 ],
 "metadata": {
  "kernelspec": {
   "display_name": "Python 3",
   "language": "python",
   "name": "python3"
  },
  "language_info": {
   "codemirror_mode": {
    "name": "ipython",
    "version": 3
   },
   "file_extension": ".py",
   "mimetype": "text/x-python",
   "name": "python",
   "nbconvert_exporter": "python",
   "pygments_lexer": "ipython3",
   "version": "3.6.3"
  }
 },
 "nbformat": 4,
 "nbformat_minor": 2
}
